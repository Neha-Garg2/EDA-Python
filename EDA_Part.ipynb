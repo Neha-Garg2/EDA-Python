{
  "nbformat": 4,
  "nbformat_minor": 0,
  "metadata": {
    "colab": {
      "provenance": [],
      "collapsed_sections": [],
      "authorship_tag": "ABX9TyNPLHvk96D3u/QBMhuzN0be",
      "include_colab_link": true
    },
    "kernelspec": {
      "name": "python3",
      "display_name": "Python 3"
    }
  },
  "cells": [
    {
      "cell_type": "markdown",
      "metadata": {
        "id": "view-in-github",
        "colab_type": "text"
      },
      "source": [
        "<a href=\"https://colab.research.google.com/github/Neha-Garg2/EDA-Python/blob/main/EDA_Part.ipynb\" target=\"_parent\"><img src=\"https://colab.research.google.com/assets/colab-badge.svg\" alt=\"Open In Colab\"/></a>"
      ]
    },
    {
      "cell_type": "markdown",
      "metadata": {
        "id": "YRkNIspClI_G"
      },
      "source": [
        "# **Exploratory Data Analysis**"
      ]
    },
    {
      "cell_type": "code",
      "metadata": {
        "id": "37do9rAZlJqR"
      },
      "source": [
        "import pandas as pd\n",
        "import matplotlib.pyplot as plt"
      ],
      "execution_count": null,
      "outputs": []
    },
    {
      "cell_type": "code",
      "metadata": {
        "id": "HnEZiJTIgQxy",
        "colab": {
          "base_uri": "https://localhost:8080/",
          "height": 411
        },
        "outputId": "0d1ac2a9-15b8-45be-c6ff-19d93c79e236"
      },
      "source": [
        "data = pd.read_csv(\"/content/datagovbldgrexus_1.csv\")\n",
        "data.head()"
      ],
      "execution_count": null,
      "outputs": [
        {
          "output_type": "execute_result",
          "data": {
            "text/html": [
              "<div>\n",
              "<style scoped>\n",
              "    .dataframe tbody tr th:only-of-type {\n",
              "        vertical-align: middle;\n",
              "    }\n",
              "\n",
              "    .dataframe tbody tr th {\n",
              "        vertical-align: top;\n",
              "    }\n",
              "\n",
              "    .dataframe thead th {\n",
              "        text-align: right;\n",
              "    }\n",
              "</style>\n",
              "<table border=\"1\" class=\"dataframe\">\n",
              "  <thead>\n",
              "    <tr style=\"text-align: right;\">\n",
              "      <th></th>\n",
              "      <th>Location Code</th>\n",
              "      <th>Region Code</th>\n",
              "      <th>Bldg Address1</th>\n",
              "      <th>Bldg Address2</th>\n",
              "      <th>Bldg City</th>\n",
              "      <th>Bldg County</th>\n",
              "      <th>Bldg State</th>\n",
              "      <th>Bldg Zip</th>\n",
              "      <th>Congressional District</th>\n",
              "      <th>Bldg Status</th>\n",
              "      <th>Property Type</th>\n",
              "      <th>Bldg ANSI Usable</th>\n",
              "      <th>Total Parking Spaces</th>\n",
              "      <th>Owned/Leased</th>\n",
              "      <th>Construction Date</th>\n",
              "      <th>Historical Type</th>\n",
              "      <th>Historical Status</th>\n",
              "      <th>ABA Accessibility Flag</th>\n",
              "    </tr>\n",
              "  </thead>\n",
              "  <tbody>\n",
              "    <tr>\n",
              "      <th>0</th>\n",
              "      <td>CT0013</td>\n",
              "      <td>1</td>\n",
              "      <td>135 HIGH ST</td>\n",
              "      <td></td>\n",
              "      <td>HARTFORD</td>\n",
              "      <td>HARTFORD</td>\n",
              "      <td>CT</td>\n",
              "      <td>61031125</td>\n",
              "      <td>1</td>\n",
              "      <td>ACTIVE</td>\n",
              "      <td>BUILDING</td>\n",
              "      <td>97072</td>\n",
              "      <td>29</td>\n",
              "      <td>OWNED</td>\n",
              "      <td>1-Jan-33</td>\n",
              "      <td>Field Not In Use</td>\n",
              "      <td>National Register Listed</td>\n",
              "      <td>Will Conform</td>\n",
              "    </tr>\n",
              "    <tr>\n",
              "      <th>1</th>\n",
              "      <td>CT0024</td>\n",
              "      <td>1</td>\n",
              "      <td>141 CHURCH ST</td>\n",
              "      <td>U.S. COURTHOUSE</td>\n",
              "      <td>NEW HAVEN</td>\n",
              "      <td>NEW HAVEN</td>\n",
              "      <td>CT</td>\n",
              "      <td>65102001</td>\n",
              "      <td>3</td>\n",
              "      <td>ACTIVE</td>\n",
              "      <td>BUILDING</td>\n",
              "      <td>69037</td>\n",
              "      <td>0</td>\n",
              "      <td>OWNED</td>\n",
              "      <td>1-Jan-19</td>\n",
              "      <td>Field Not In Use</td>\n",
              "      <td>National Register Listed</td>\n",
              "      <td>Will Conform</td>\n",
              "    </tr>\n",
              "    <tr>\n",
              "      <th>2</th>\n",
              "      <td>CT0047</td>\n",
              "      <td>1</td>\n",
              "      <td>135 GRAND ST</td>\n",
              "      <td></td>\n",
              "      <td>WATERBURY</td>\n",
              "      <td>NEW HAVEN</td>\n",
              "      <td>CT</td>\n",
              "      <td>67029998</td>\n",
              "      <td>5</td>\n",
              "      <td>ACTIVE</td>\n",
              "      <td>BUILDING</td>\n",
              "      <td>7442</td>\n",
              "      <td>2</td>\n",
              "      <td>LEASED</td>\n",
              "      <td>1-Jan-33</td>\n",
              "      <td>Field Not In Use</td>\n",
              "      <td>National Register Listed</td>\n",
              "      <td>Will Conform</td>\n",
              "    </tr>\n",
              "    <tr>\n",
              "      <th>3</th>\n",
              "      <td>CT0049</td>\n",
              "      <td>1</td>\n",
              "      <td>919 MAIN STREET</td>\n",
              "      <td></td>\n",
              "      <td>WILLIMANTIC</td>\n",
              "      <td>WINDHAM</td>\n",
              "      <td>CT</td>\n",
              "      <td>62269998</td>\n",
              "      <td>2</td>\n",
              "      <td>ACTIVE</td>\n",
              "      <td>BUILDING</td>\n",
              "      <td>198</td>\n",
              "      <td>0</td>\n",
              "      <td>LEASED</td>\n",
              "      <td>1-Jan-11</td>\n",
              "      <td>Field Not In Use</td>\n",
              "      <td>Not Evaluated</td>\n",
              "      <td>Will Conform</td>\n",
              "    </tr>\n",
              "    <tr>\n",
              "      <th>4</th>\n",
              "      <td>CT0053</td>\n",
              "      <td>1</td>\n",
              "      <td>450 MAIN ST</td>\n",
              "      <td></td>\n",
              "      <td>HARTFORD</td>\n",
              "      <td>HARTFORD</td>\n",
              "      <td>CT</td>\n",
              "      <td>61033022</td>\n",
              "      <td>1</td>\n",
              "      <td>ACTIVE</td>\n",
              "      <td>BUILDING</td>\n",
              "      <td>203358</td>\n",
              "      <td>103</td>\n",
              "      <td>OWNED</td>\n",
              "      <td>1-Jan-63</td>\n",
              "      <td>Field Not In Use</td>\n",
              "      <td>Evaluated - Not Historic</td>\n",
              "      <td>Will Conform</td>\n",
              "    </tr>\n",
              "  </tbody>\n",
              "</table>\n",
              "</div>"
            ],
            "text/plain": [
              "  Location Code  Region Code  ...         Historical Status ABA Accessibility Flag \n",
              "0        CT0013            1  ...  National Register Listed            Will Conform\n",
              "1        CT0024            1  ...  National Register Listed            Will Conform\n",
              "2        CT0047            1  ...  National Register Listed            Will Conform\n",
              "3        CT0049            1  ...             Not Evaluated            Will Conform\n",
              "4        CT0053            1  ...  Evaluated - Not Historic            Will Conform\n",
              "\n",
              "[5 rows x 18 columns]"
            ]
          },
          "metadata": {
            "tags": []
          },
          "execution_count": 2
        }
      ]
    },
    {
      "cell_type": "code",
      "metadata": {
        "id": "hVEgdTnRgyaz",
        "colab": {
          "base_uri": "https://localhost:8080/",
          "height": 136
        },
        "outputId": "2399a071-c0ea-4f14-be21-79a055c36f1b"
      },
      "source": [
        "data.columns"
      ],
      "execution_count": null,
      "outputs": [
        {
          "output_type": "execute_result",
          "data": {
            "text/plain": [
              "Index(['Location Code', 'Region Code', 'Bldg Address1', 'Bldg Address2',\n",
              "       'Bldg City', 'Bldg County', 'Bldg State', 'Bldg Zip',\n",
              "       'Congressional District', 'Bldg Status', 'Property Type',\n",
              "       'Bldg ANSI Usable', 'Total Parking Spaces', 'Owned/Leased',\n",
              "       'Construction Date', 'Historical Type', 'Historical Status',\n",
              "       'ABA Accessibility Flag '],\n",
              "      dtype='object')"
            ]
          },
          "metadata": {
            "tags": []
          },
          "execution_count": 3
        }
      ]
    },
    {
      "cell_type": "code",
      "metadata": {
        "id": "EBtxHpI2g8hH",
        "colab": {
          "base_uri": "https://localhost:8080/",
          "height": 85
        },
        "outputId": "c70d82b5-3481-4656-f6db-ab0e832a37d3"
      },
      "source": [
        "data['Bldg Status'].value_counts()"
      ],
      "execution_count": null,
      "outputs": [
        {
          "output_type": "execute_result",
          "data": {
            "text/plain": [
              "ACTIVE            9111\n",
              "EXCESS              76\n",
              "DECOMMISSIONED      13\n",
              "Name: Bldg Status, dtype: int64"
            ]
          },
          "metadata": {
            "tags": []
          },
          "execution_count": 4
        }
      ]
    },
    {
      "cell_type": "markdown",
      "metadata": {
        "id": "Vq_NVo4wg5rD"
      },
      "source": [
        "**Distribution owned/leased**"
      ]
    },
    {
      "cell_type": "code",
      "metadata": {
        "id": "T0jtqod4g3uS",
        "colab": {
          "base_uri": "https://localhost:8080/",
          "height": 282
        },
        "outputId": "e4c70fae-fe9f-4aca-9c08-8f5ff398c041"
      },
      "source": [
        "plt.bar(data['Owned/Leased'],data['Total Parking Spaces'])"
      ],
      "execution_count": null,
      "outputs": [
        {
          "output_type": "execute_result",
          "data": {
            "text/plain": [
              "<BarContainer object of 9200 artists>"
            ]
          },
          "metadata": {
            "tags": []
          },
          "execution_count": 5
        },
        {
          "output_type": "display_data",
          "data": {
            "image/png": "[encoded data removed]",
            "text/plain": [
              "<Figure size 432x288 with 1 Axes>"
            ]
          },
          "metadata": {
            "tags": [],
            "needs_background": "light"
          }
        }
      ]
    },
    {
      "cell_type": "code",
      "metadata": {
        "id": "GjO8eKoRuu5U",
        "colab": {
          "base_uri": "https://localhost:8080/",
          "height": 296
        },
        "outputId": "19ce2078-72e2-401a-b389-7043ef45ff37"
      },
      "source": [
        "data.plot.scatter(x='Owned/Leased', y='Total Parking Spaces')"
      ],
      "execution_count": null,
      "outputs": [
        {
          "output_type": "execute_result",
          "data": {
            "text/plain": [
              "<matplotlib.axes._subplots.AxesSubplot at 0x7f843b2b97f0>"
            ]
          },
          "metadata": {
            "tags": []
          },
          "execution_count": 6
        },
        {
          "output_type": "display_data",
          "data": {
            "image/png": "[encoded data removed]",
            "text/plain": [
              "<Figure size 432x288 with 1 Axes>"
            ]
          },
          "metadata": {
            "tags": [],
            "needs_background": "light"
          }
        }
      ]
    },
    {
      "cell_type": "code",
      "metadata": {
        "id": "DodgRJ-nht2d",
        "colab": {
          "base_uri": "https://localhost:8080/",
          "height": 142
        },
        "outputId": "a61cff59-d89a-453b-f6fc-ba46b48272fb"
      },
      "source": [
        "own_lease = pd.pivot_table(data,index='Owned/Leased' , values='Total Parking Spaces',aggfunc='count')\n",
        "own_lease"
      ],
      "execution_count": null,
      "outputs": [
        {
          "output_type": "execute_result",
          "data": {
            "text/html": [
              "<div>\n",
              "<style scoped>\n",
              "    .dataframe tbody tr th:only-of-type {\n",
              "        vertical-align: middle;\n",
              "    }\n",
              "\n",
              "    .dataframe tbody tr th {\n",
              "        vertical-align: top;\n",
              "    }\n",
              "\n",
              "    .dataframe thead th {\n",
              "        text-align: right;\n",
              "    }\n",
              "</style>\n",
              "<table border=\"1\" class=\"dataframe\">\n",
              "  <thead>\n",
              "    <tr style=\"text-align: right;\">\n",
              "      <th></th>\n",
              "      <th>Total Parking Spaces</th>\n",
              "    </tr>\n",
              "    <tr>\n",
              "      <th>Owned/Leased</th>\n",
              "      <th></th>\n",
              "    </tr>\n",
              "  </thead>\n",
              "  <tbody>\n",
              "    <tr>\n",
              "      <th>LEASED</th>\n",
              "      <td>7054</td>\n",
              "    </tr>\n",
              "    <tr>\n",
              "      <th>OWNED</th>\n",
              "      <td>2146</td>\n",
              "    </tr>\n",
              "  </tbody>\n",
              "</table>\n",
              "</div>"
            ],
            "text/plain": [
              "              Total Parking Spaces\n",
              "Owned/Leased                      \n",
              "LEASED                        7054\n",
              "OWNED                         2146"
            ]
          },
          "metadata": {
            "tags": []
          },
          "execution_count": 7
        }
      ]
    },
    {
      "cell_type": "code",
      "metadata": {
        "id": "UgvP6E-tiJwB",
        "colab": {
          "base_uri": "https://localhost:8080/",
          "height": 325
        },
        "outputId": "3fae8bd1-6bb3-4a15-fec9-3b086d85704d"
      },
      "source": [
        "own_lease.plot(kind='bar')"
      ],
      "execution_count": null,
      "outputs": [
        {
          "output_type": "execute_result",
          "data": {
            "text/plain": [
              "<matplotlib.axes._subplots.AxesSubplot at 0x7f843b0e5748>"
            ]
          },
          "metadata": {
            "tags": []
          },
          "execution_count": 8
        },
        {
          "output_type": "display_data",
          "data": {
            "image/png": "[encoded data removed]",
            "text/plain": [
              "<Figure size 432x288 with 1 Axes>"
            ]
          },
          "metadata": {
            "tags": [],
            "needs_background": "light"
          }
        }
      ]
    },
    {
      "cell_type": "markdown",
      "metadata": {
        "id": "COmdQOY8jbV-"
      },
      "source": [
        "**In which bldg state parking is excess?**"
      ]
    },
    {
      "cell_type": "code",
      "metadata": {
        "id": "wF5PGis3j3fv",
        "colab": {
          "base_uri": "https://localhost:8080/",
          "height": 1000
        },
        "outputId": "2a008423-d56c-40d7-bc11-5af800773fa6"
      },
      "source": [
        "excess = pd.pivot_table(data,index='Bldg State',columns='Bldg Status',values='Total Parking Spaces')\n",
        "excess"
      ],
      "execution_count": null,
      "outputs": [
        {
          "output_type": "execute_result",
          "data": {
            "text/html": [
              "<div>\n",
              "<style scoped>\n",
              "    .dataframe tbody tr th:only-of-type {\n",
              "        vertical-align: middle;\n",
              "    }\n",
              "\n",
              "    .dataframe tbody tr th {\n",
              "        vertical-align: top;\n",
              "    }\n",
              "\n",
              "    .dataframe thead th {\n",
              "        text-align: right;\n",
              "    }\n",
              "</style>\n",
              "<table border=\"1\" class=\"dataframe\">\n",
              "  <thead>\n",
              "    <tr style=\"text-align: right;\">\n",
              "      <th>Bldg Status</th>\n",
              "      <th>ACTIVE</th>\n",
              "      <th>DECOMMISSIONED</th>\n",
              "      <th>EXCESS</th>\n",
              "    </tr>\n",
              "    <tr>\n",
              "      <th>Bldg State</th>\n",
              "      <th></th>\n",
              "      <th></th>\n",
              "      <th></th>\n",
              "    </tr>\n",
              "  </thead>\n",
              "  <tbody>\n",
              "    <tr>\n",
              "      <th>AK</th>\n",
              "      <td>29.495238</td>\n",
              "      <td>NaN</td>\n",
              "      <td>NaN</td>\n",
              "    </tr>\n",
              "    <tr>\n",
              "      <th>AL</th>\n",
              "      <td>62.488189</td>\n",
              "      <td>NaN</td>\n",
              "      <td>NaN</td>\n",
              "    </tr>\n",
              "    <tr>\n",
              "      <th>AR</th>\n",
              "      <td>35.914634</td>\n",
              "      <td>NaN</td>\n",
              "      <td>NaN</td>\n",
              "    </tr>\n",
              "    <tr>\n",
              "      <th>AS</th>\n",
              "      <td>6.800000</td>\n",
              "      <td>NaN</td>\n",
              "      <td>NaN</td>\n",
              "    </tr>\n",
              "    <tr>\n",
              "      <th>AZ</th>\n",
              "      <td>32.890909</td>\n",
              "      <td>NaN</td>\n",
              "      <td>NaN</td>\n",
              "    </tr>\n",
              "    <tr>\n",
              "      <th>CA</th>\n",
              "      <td>61.909465</td>\n",
              "      <td>NaN</td>\n",
              "      <td>58.846154</td>\n",
              "    </tr>\n",
              "    <tr>\n",
              "      <th>CO</th>\n",
              "      <td>76.521930</td>\n",
              "      <td>0.000000</td>\n",
              "      <td>2.000000</td>\n",
              "    </tr>\n",
              "    <tr>\n",
              "      <th>CT</th>\n",
              "      <td>29.033898</td>\n",
              "      <td>NaN</td>\n",
              "      <td>NaN</td>\n",
              "    </tr>\n",
              "    <tr>\n",
              "      <th>DC</th>\n",
              "      <td>42.654008</td>\n",
              "      <td>NaN</td>\n",
              "      <td>0.000000</td>\n",
              "    </tr>\n",
              "    <tr>\n",
              "      <th>DE</th>\n",
              "      <td>17.920000</td>\n",
              "      <td>NaN</td>\n",
              "      <td>NaN</td>\n",
              "    </tr>\n",
              "    <tr>\n",
              "      <th>FL</th>\n",
              "      <td>50.324519</td>\n",
              "      <td>NaN</td>\n",
              "      <td>NaN</td>\n",
              "    </tr>\n",
              "    <tr>\n",
              "      <th>GA</th>\n",
              "      <td>74.638009</td>\n",
              "      <td>NaN</td>\n",
              "      <td>NaN</td>\n",
              "    </tr>\n",
              "    <tr>\n",
              "      <th>GU</th>\n",
              "      <td>45.222222</td>\n",
              "      <td>NaN</td>\n",
              "      <td>NaN</td>\n",
              "    </tr>\n",
              "    <tr>\n",
              "      <th>HI</th>\n",
              "      <td>28.244444</td>\n",
              "      <td>NaN</td>\n",
              "      <td>NaN</td>\n",
              "    </tr>\n",
              "    <tr>\n",
              "      <th>IA</th>\n",
              "      <td>27.770270</td>\n",
              "      <td>NaN</td>\n",
              "      <td>NaN</td>\n",
              "    </tr>\n",
              "    <tr>\n",
              "      <th>ID</th>\n",
              "      <td>38.984127</td>\n",
              "      <td>0.000000</td>\n",
              "      <td>NaN</td>\n",
              "    </tr>\n",
              "    <tr>\n",
              "      <th>IL</th>\n",
              "      <td>45.497797</td>\n",
              "      <td>NaN</td>\n",
              "      <td>4.200000</td>\n",
              "    </tr>\n",
              "    <tr>\n",
              "      <th>IN</th>\n",
              "      <td>47.605634</td>\n",
              "      <td>NaN</td>\n",
              "      <td>0.000000</td>\n",
              "    </tr>\n",
              "    <tr>\n",
              "      <th>KS</th>\n",
              "      <td>53.972222</td>\n",
              "      <td>NaN</td>\n",
              "      <td>NaN</td>\n",
              "    </tr>\n",
              "    <tr>\n",
              "      <th>KY</th>\n",
              "      <td>50.169231</td>\n",
              "      <td>NaN</td>\n",
              "      <td>NaN</td>\n",
              "    </tr>\n",
              "    <tr>\n",
              "      <th>LA</th>\n",
              "      <td>47.562044</td>\n",
              "      <td>NaN</td>\n",
              "      <td>6.727273</td>\n",
              "    </tr>\n",
              "    <tr>\n",
              "      <th>MA</th>\n",
              "      <td>62.092437</td>\n",
              "      <td>NaN</td>\n",
              "      <td>NaN</td>\n",
              "    </tr>\n",
              "    <tr>\n",
              "      <th>MD</th>\n",
              "      <td>108.647696</td>\n",
              "      <td>NaN</td>\n",
              "      <td>0.000000</td>\n",
              "    </tr>\n",
              "    <tr>\n",
              "      <th>ME</th>\n",
              "      <td>19.086957</td>\n",
              "      <td>NaN</td>\n",
              "      <td>NaN</td>\n",
              "    </tr>\n",
              "    <tr>\n",
              "      <th>MI</th>\n",
              "      <td>42.558442</td>\n",
              "      <td>NaN</td>\n",
              "      <td>NaN</td>\n",
              "    </tr>\n",
              "    <tr>\n",
              "      <th>MN</th>\n",
              "      <td>43.093750</td>\n",
              "      <td>NaN</td>\n",
              "      <td>28.000000</td>\n",
              "    </tr>\n",
              "    <tr>\n",
              "      <th>MO</th>\n",
              "      <td>122.046632</td>\n",
              "      <td>815.333333</td>\n",
              "      <td>NaN</td>\n",
              "    </tr>\n",
              "    <tr>\n",
              "      <th>MP</th>\n",
              "      <td>12.833333</td>\n",
              "      <td>NaN</td>\n",
              "      <td>NaN</td>\n",
              "    </tr>\n",
              "    <tr>\n",
              "      <th>MS</th>\n",
              "      <td>36.337209</td>\n",
              "      <td>NaN</td>\n",
              "      <td>NaN</td>\n",
              "    </tr>\n",
              "    <tr>\n",
              "      <th>MT</th>\n",
              "      <td>17.756757</td>\n",
              "      <td>NaN</td>\n",
              "      <td>NaN</td>\n",
              "    </tr>\n",
              "    <tr>\n",
              "      <th>NC</th>\n",
              "      <td>33.591928</td>\n",
              "      <td>NaN</td>\n",
              "      <td>NaN</td>\n",
              "    </tr>\n",
              "    <tr>\n",
              "      <th>ND</th>\n",
              "      <td>13.848101</td>\n",
              "      <td>NaN</td>\n",
              "      <td>NaN</td>\n",
              "    </tr>\n",
              "    <tr>\n",
              "      <th>NE</th>\n",
              "      <td>54.019608</td>\n",
              "      <td>NaN</td>\n",
              "      <td>NaN</td>\n",
              "    </tr>\n",
              "    <tr>\n",
              "      <th>NH</th>\n",
              "      <td>38.000000</td>\n",
              "      <td>NaN</td>\n",
              "      <td>136.000000</td>\n",
              "    </tr>\n",
              "    <tr>\n",
              "      <th>NJ</th>\n",
              "      <td>33.430769</td>\n",
              "      <td>NaN</td>\n",
              "      <td>1.555556</td>\n",
              "    </tr>\n",
              "    <tr>\n",
              "      <th>NM</th>\n",
              "      <td>46.416058</td>\n",
              "      <td>NaN</td>\n",
              "      <td>NaN</td>\n",
              "    </tr>\n",
              "    <tr>\n",
              "      <th>NV</th>\n",
              "      <td>58.430556</td>\n",
              "      <td>NaN</td>\n",
              "      <td>NaN</td>\n",
              "    </tr>\n",
              "    <tr>\n",
              "      <th>NY</th>\n",
              "      <td>40.306407</td>\n",
              "      <td>0.000000</td>\n",
              "      <td>0.000000</td>\n",
              "    </tr>\n",
              "    <tr>\n",
              "      <th>OH</th>\n",
              "      <td>40.238579</td>\n",
              "      <td>NaN</td>\n",
              "      <td>NaN</td>\n",
              "    </tr>\n",
              "    <tr>\n",
              "      <th>OK</th>\n",
              "      <td>39.611111</td>\n",
              "      <td>NaN</td>\n",
              "      <td>NaN</td>\n",
              "    </tr>\n",
              "    <tr>\n",
              "      <th>OR</th>\n",
              "      <td>32.192308</td>\n",
              "      <td>NaN</td>\n",
              "      <td>NaN</td>\n",
              "    </tr>\n",
              "    <tr>\n",
              "      <th>PA</th>\n",
              "      <td>38.524194</td>\n",
              "      <td>NaN</td>\n",
              "      <td>0.000000</td>\n",
              "    </tr>\n",
              "    <tr>\n",
              "      <th>PR</th>\n",
              "      <td>74.940299</td>\n",
              "      <td>NaN</td>\n",
              "      <td>NaN</td>\n",
              "    </tr>\n",
              "    <tr>\n",
              "      <th>RI</th>\n",
              "      <td>24.285714</td>\n",
              "      <td>NaN</td>\n",
              "      <td>NaN</td>\n",
              "    </tr>\n",
              "    <tr>\n",
              "      <th>SC</th>\n",
              "      <td>36.255319</td>\n",
              "      <td>NaN</td>\n",
              "      <td>0.000000</td>\n",
              "    </tr>\n",
              "    <tr>\n",
              "      <th>SD</th>\n",
              "      <td>23.014925</td>\n",
              "      <td>NaN</td>\n",
              "      <td>NaN</td>\n",
              "    </tr>\n",
              "    <tr>\n",
              "      <th>TN</th>\n",
              "      <td>55.933775</td>\n",
              "      <td>NaN</td>\n",
              "      <td>NaN</td>\n",
              "    </tr>\n",
              "    <tr>\n",
              "      <th>TX</th>\n",
              "      <td>53.667408</td>\n",
              "      <td>NaN</td>\n",
              "      <td>0.000000</td>\n",
              "    </tr>\n",
              "    <tr>\n",
              "      <th>UT</th>\n",
              "      <td>83.758242</td>\n",
              "      <td>NaN</td>\n",
              "      <td>NaN</td>\n",
              "    </tr>\n",
              "    <tr>\n",
              "      <th>VA</th>\n",
              "      <td>75.077647</td>\n",
              "      <td>NaN</td>\n",
              "      <td>NaN</td>\n",
              "    </tr>\n",
              "    <tr>\n",
              "      <th>VI</th>\n",
              "      <td>24.866667</td>\n",
              "      <td>NaN</td>\n",
              "      <td>NaN</td>\n",
              "    </tr>\n",
              "    <tr>\n",
              "      <th>VT</th>\n",
              "      <td>33.987179</td>\n",
              "      <td>NaN</td>\n",
              "      <td>NaN</td>\n",
              "    </tr>\n",
              "    <tr>\n",
              "      <th>WA</th>\n",
              "      <td>46.804255</td>\n",
              "      <td>0.000000</td>\n",
              "      <td>NaN</td>\n",
              "    </tr>\n",
              "    <tr>\n",
              "      <th>WI</th>\n",
              "      <td>24.435897</td>\n",
              "      <td>NaN</td>\n",
              "      <td>NaN</td>\n",
              "    </tr>\n",
              "    <tr>\n",
              "      <th>WV</th>\n",
              "      <td>32.495327</td>\n",
              "      <td>NaN</td>\n",
              "      <td>NaN</td>\n",
              "    </tr>\n",
              "    <tr>\n",
              "      <th>WY</th>\n",
              "      <td>27.930233</td>\n",
              "      <td>NaN</td>\n",
              "      <td>NaN</td>\n",
              "    </tr>\n",
              "  </tbody>\n",
              "</table>\n",
              "</div>"
            ],
            "text/plain": [
              "Bldg Status      ACTIVE  DECOMMISSIONED      EXCESS\n",
              "Bldg State                                         \n",
              "AK            29.495238             NaN         NaN\n",
              "AL            62.488189             NaN         NaN\n",
              "AR            35.914634             NaN         NaN\n",
              "AS             6.800000             NaN         NaN\n",
              "AZ            32.890909             NaN         NaN\n",
              "CA            61.909465             NaN   58.846154\n",
              "CO            76.521930        0.000000    2.000000\n",
              "CT            29.033898             NaN         NaN\n",
              "DC            42.654008             NaN    0.000000\n",
              "DE            17.920000             NaN         NaN\n",
              "FL            50.324519             NaN         NaN\n",
              "GA            74.638009             NaN         NaN\n",
              "GU            45.222222             NaN         NaN\n",
              "HI            28.244444             NaN         NaN\n",
              "IA            27.770270             NaN         NaN\n",
              "ID            38.984127        0.000000         NaN\n",
              "IL            45.497797             NaN    4.200000\n",
              "IN            47.605634             NaN    0.000000\n",
              "KS            53.972222             NaN         NaN\n",
              "KY            50.169231             NaN         NaN\n",
              "LA            47.562044             NaN    6.727273\n",
              "MA            62.092437             NaN         NaN\n",
              "MD           108.647696             NaN    0.000000\n",
              "ME            19.086957             NaN         NaN\n",
              "MI            42.558442             NaN         NaN\n",
              "MN            43.093750             NaN   28.000000\n",
              "MO           122.046632      815.333333         NaN\n",
              "MP            12.833333             NaN         NaN\n",
              "MS            36.337209             NaN         NaN\n",
              "MT            17.756757             NaN         NaN\n",
              "NC            33.591928             NaN         NaN\n",
              "ND            13.848101             NaN         NaN\n",
              "NE            54.019608             NaN         NaN\n",
              "NH            38.000000             NaN  136.000000\n",
              "NJ            33.430769             NaN    1.555556\n",
              "NM            46.416058             NaN         NaN\n",
              "NV            58.430556             NaN         NaN\n",
              "NY            40.306407        0.000000    0.000000\n",
              "OH            40.238579             NaN         NaN\n",
              "OK            39.611111             NaN         NaN\n",
              "OR            32.192308             NaN         NaN\n",
              "PA            38.524194             NaN    0.000000\n",
              "PR            74.940299             NaN         NaN\n",
              "RI            24.285714             NaN         NaN\n",
              "SC            36.255319             NaN    0.000000\n",
              "SD            23.014925             NaN         NaN\n",
              "TN            55.933775             NaN         NaN\n",
              "TX            53.667408             NaN    0.000000\n",
              "UT            83.758242             NaN         NaN\n",
              "VA            75.077647             NaN         NaN\n",
              "VI            24.866667             NaN         NaN\n",
              "VT            33.987179             NaN         NaN\n",
              "WA            46.804255        0.000000         NaN\n",
              "WI            24.435897             NaN         NaN\n",
              "WV            32.495327             NaN         NaN\n",
              "WY            27.930233             NaN         NaN"
            ]
          },
          "metadata": {
            "tags": []
          },
          "execution_count": 9
        }
      ]
    },
    {
      "cell_type": "code",
      "metadata": {
        "id": "GRilFacfkmV9",
        "colab": {
          "base_uri": "https://localhost:8080/",
          "height": 297
        },
        "outputId": "cedea298-3418-4896-b05d-f3b9b6bbf462"
      },
      "source": [
        "excess=excess[excess.EXCESS>0]\n",
        "excess"
      ],
      "execution_count": null,
      "outputs": [
        {
          "output_type": "execute_result",
          "data": {
            "text/html": [
              "<div>\n",
              "<style scoped>\n",
              "    .dataframe tbody tr th:only-of-type {\n",
              "        vertical-align: middle;\n",
              "    }\n",
              "\n",
              "    .dataframe tbody tr th {\n",
              "        vertical-align: top;\n",
              "    }\n",
              "\n",
              "    .dataframe thead th {\n",
              "        text-align: right;\n",
              "    }\n",
              "</style>\n",
              "<table border=\"1\" class=\"dataframe\">\n",
              "  <thead>\n",
              "    <tr style=\"text-align: right;\">\n",
              "      <th>Bldg Status</th>\n",
              "      <th>ACTIVE</th>\n",
              "      <th>DECOMMISSIONED</th>\n",
              "      <th>EXCESS</th>\n",
              "    </tr>\n",
              "    <tr>\n",
              "      <th>Bldg State</th>\n",
              "      <th></th>\n",
              "      <th></th>\n",
              "      <th></th>\n",
              "    </tr>\n",
              "  </thead>\n",
              "  <tbody>\n",
              "    <tr>\n",
              "      <th>CA</th>\n",
              "      <td>61.909465</td>\n",
              "      <td>NaN</td>\n",
              "      <td>58.846154</td>\n",
              "    </tr>\n",
              "    <tr>\n",
              "      <th>CO</th>\n",
              "      <td>76.521930</td>\n",
              "      <td>0.0</td>\n",
              "      <td>2.000000</td>\n",
              "    </tr>\n",
              "    <tr>\n",
              "      <th>IL</th>\n",
              "      <td>45.497797</td>\n",
              "      <td>NaN</td>\n",
              "      <td>4.200000</td>\n",
              "    </tr>\n",
              "    <tr>\n",
              "      <th>LA</th>\n",
              "      <td>47.562044</td>\n",
              "      <td>NaN</td>\n",
              "      <td>6.727273</td>\n",
              "    </tr>\n",
              "    <tr>\n",
              "      <th>MN</th>\n",
              "      <td>43.093750</td>\n",
              "      <td>NaN</td>\n",
              "      <td>28.000000</td>\n",
              "    </tr>\n",
              "    <tr>\n",
              "      <th>NH</th>\n",
              "      <td>38.000000</td>\n",
              "      <td>NaN</td>\n",
              "      <td>136.000000</td>\n",
              "    </tr>\n",
              "    <tr>\n",
              "      <th>NJ</th>\n",
              "      <td>33.430769</td>\n",
              "      <td>NaN</td>\n",
              "      <td>1.555556</td>\n",
              "    </tr>\n",
              "  </tbody>\n",
              "</table>\n",
              "</div>"
            ],
            "text/plain": [
              "Bldg Status     ACTIVE  DECOMMISSIONED      EXCESS\n",
              "Bldg State                                        \n",
              "CA           61.909465             NaN   58.846154\n",
              "CO           76.521930             0.0    2.000000\n",
              "IL           45.497797             NaN    4.200000\n",
              "LA           47.562044             NaN    6.727273\n",
              "MN           43.093750             NaN   28.000000\n",
              "NH           38.000000             NaN  136.000000\n",
              "NJ           33.430769             NaN    1.555556"
            ]
          },
          "metadata": {
            "tags": []
          },
          "execution_count": 10
        }
      ]
    },
    {
      "cell_type": "code",
      "metadata": {
        "id": "DZ4ZacxdlXDd",
        "colab": {
          "base_uri": "https://localhost:8080/",
          "height": 302
        },
        "outputId": "d2eb9b7c-880f-4256-ec92-39804dbd788b"
      },
      "source": [
        "excess.plot(kind='bar')"
      ],
      "execution_count": null,
      "outputs": [
        {
          "output_type": "execute_result",
          "data": {
            "text/plain": [
              "<matplotlib.axes._subplots.AxesSubplot at 0x7f843aee0ba8>"
            ]
          },
          "metadata": {
            "tags": []
          },
          "execution_count": 11
        },
        {
          "output_type": "display_data",
          "data": {
            "image/png": "[encoded data removed]",
            "text/plain": [
              "<Figure size 432x288 with 1 Axes>"
            ]
          },
          "metadata": {
            "tags": [],
            "needs_background": "light"
          }
        }
      ]
    },
    {
      "cell_type": "code",
      "metadata": {
        "id": "78OOn8fFvVrs",
        "colab": {
          "base_uri": "https://localhost:8080/",
          "height": 296
        },
        "outputId": "0c3975cf-54fd-4d9e-919c-c1e0c11bbb5d"
      },
      "source": [
        "data.plot.scatter(x='Bldg Status', y='Total Parking Spaces')"
      ],
      "execution_count": null,
      "outputs": [
        {
          "output_type": "execute_result",
          "data": {
            "text/plain": [
              "<matplotlib.axes._subplots.AxesSubplot at 0x7f843ad668d0>"
            ]
          },
          "metadata": {
            "tags": []
          },
          "execution_count": 12
        },
        {
          "output_type": "display_data",
          "data": {
            "image/png": "[encoded data removed]",
            "text/plain": [
              "<Figure size 432x288 with 1 Axes>"
            ]
          },
          "metadata": {
            "tags": [],
            "needs_background": "light"
          }
        }
      ]
    },
    {
      "cell_type": "code",
      "metadata": {
        "id": "7l1HCuACmAxP",
        "colab": {
          "base_uri": "https://localhost:8080/",
          "height": 282
        },
        "outputId": "1aa11144-ad47-464e-c65b-ffe7153c4efb"
      },
      "source": [
        "plt.bar(excess.index,excess.EXCESS)"
      ],
      "execution_count": null,
      "outputs": [
        {
          "output_type": "execute_result",
          "data": {
            "text/plain": [
              "<BarContainer object of 7 artists>"
            ]
          },
          "metadata": {
            "tags": []
          },
          "execution_count": 13
        },
        {
          "output_type": "display_data",
          "data": {
            "image/png": "[encoded data removed]",
            "text/plain": [
              "<Figure size 432x288 with 1 Axes>"
            ]
          },
          "metadata": {
            "tags": [],
            "needs_background": "light"
          }
        }
      ]
    },
    {
      "cell_type": "code",
      "metadata": {
        "id": "wzCQ5MP2mdPt",
        "colab": {
          "base_uri": "https://localhost:8080/",
          "height": 170
        },
        "outputId": "401e121e-826e-42ff-bfa1-df1c497e2340"
      },
      "source": [
        "excess_sort = excess.EXCESS.sort_values(ascending= False)\n",
        "excess_sort"
      ],
      "execution_count": null,
      "outputs": [
        {
          "output_type": "execute_result",
          "data": {
            "text/plain": [
              "Bldg State\n",
              "NH    136.000000\n",
              "CA     58.846154\n",
              "MN     28.000000\n",
              "LA      6.727273\n",
              "IL      4.200000\n",
              "CO      2.000000\n",
              "NJ      1.555556\n",
              "Name: EXCESS, dtype: float64"
            ]
          },
          "metadata": {
            "tags": []
          },
          "execution_count": 14
        }
      ]
    },
    {
      "cell_type": "code",
      "metadata": {
        "id": "6VmK6Hyfmz05",
        "colab": {
          "base_uri": "https://localhost:8080/",
          "height": 282
        },
        "outputId": "fae676e7-add8-4418-8a9f-145a894f2e6d"
      },
      "source": [
        "plt.bar(excess_sort.index,excess_sort.values)"
      ],
      "execution_count": null,
      "outputs": [
        {
          "output_type": "execute_result",
          "data": {
            "text/plain": [
              "<BarContainer object of 7 artists>"
            ]
          },
          "metadata": {
            "tags": []
          },
          "execution_count": 15
        },
        {
          "output_type": "display_data",
          "data": {
            "image/png": "[encoded data removed]",
            "text/plain": [
              "<Figure size 432x288 with 1 Axes>"
            ]
          },
          "metadata": {
            "tags": [],
            "needs_background": "light"
          }
        }
      ]
    },
    {
      "cell_type": "markdown",
      "metadata": {
        "id": "ryFPN2xYoOAg"
      },
      "source": [
        "**In which property type parking is excess**"
      ]
    },
    {
      "cell_type": "code",
      "metadata": {
        "id": "B-UUuNbYoGKS",
        "colab": {
          "base_uri": "https://localhost:8080/",
          "height": 173
        },
        "outputId": "fabb9322-02bd-4fb3-a00e-d115d338ca85"
      },
      "source": [
        "excess_property = pd.pivot_table(data[data['Bldg Status']=='EXCESS'],index='Property Type',values='Total Parking Spaces')\n",
        "excess_property"
      ],
      "execution_count": null,
      "outputs": [
        {
          "output_type": "execute_result",
          "data": {
            "text/html": [
              "<div>\n",
              "<style scoped>\n",
              "    .dataframe tbody tr th:only-of-type {\n",
              "        vertical-align: middle;\n",
              "    }\n",
              "\n",
              "    .dataframe tbody tr th {\n",
              "        vertical-align: top;\n",
              "    }\n",
              "\n",
              "    .dataframe thead th {\n",
              "        text-align: right;\n",
              "    }\n",
              "</style>\n",
              "<table border=\"1\" class=\"dataframe\">\n",
              "  <thead>\n",
              "    <tr style=\"text-align: right;\">\n",
              "      <th></th>\n",
              "      <th>Total Parking Spaces</th>\n",
              "    </tr>\n",
              "    <tr>\n",
              "      <th>Property Type</th>\n",
              "      <th></th>\n",
              "    </tr>\n",
              "  </thead>\n",
              "  <tbody>\n",
              "    <tr>\n",
              "      <th>BUILDING</th>\n",
              "      <td>12.041667</td>\n",
              "    </tr>\n",
              "    <tr>\n",
              "      <th>LAND</th>\n",
              "      <td>0.000000</td>\n",
              "    </tr>\n",
              "    <tr>\n",
              "      <th>STRUCTURE</th>\n",
              "      <td>58.333333</td>\n",
              "    </tr>\n",
              "  </tbody>\n",
              "</table>\n",
              "</div>"
            ],
            "text/plain": [
              "               Total Parking Spaces\n",
              "Property Type                      \n",
              "BUILDING                  12.041667\n",
              "LAND                       0.000000\n",
              "STRUCTURE                 58.333333"
            ]
          },
          "metadata": {
            "tags": []
          },
          "execution_count": 18
        }
      ]
    },
    {
      "cell_type": "code",
      "metadata": {
        "id": "CEhFKC1soubY",
        "colab": {
          "base_uri": "https://localhost:8080/",
          "height": 346
        },
        "outputId": "e51c5d43-044d-4f0c-e3e3-39aed768fc44"
      },
      "source": [
        "excess_property.plot(kind='bar')"
      ],
      "execution_count": null,
      "outputs": [
        {
          "output_type": "execute_result",
          "data": {
            "text/plain": [
              "<matplotlib.axes._subplots.AxesSubplot at 0x7f8439c45a90>"
            ]
          },
          "metadata": {
            "tags": []
          },
          "execution_count": 19
        },
        {
          "output_type": "display_data",
          "data": {
            "image/png": "[encoded data removed]",
            "text/plain": [
              "<Figure size 432x288 with 1 Axes>"
            ]
          },
          "metadata": {
            "tags": [],
            "needs_background": "light"
          }
        }
      ]
    },
    {
      "cell_type": "markdown",
      "metadata": {
        "id": "wnRcHKxfpwUW"
      },
      "source": [
        "**Where is more active parking-owned/leased**"
      ]
    },
    {
      "cell_type": "code",
      "metadata": {
        "id": "PMlQTKlzqBai",
        "colab": {
          "base_uri": "https://localhost:8080/",
          "height": 142
        },
        "outputId": "80f4a75d-bfc6-4add-f511-74b92b46cf80"
      },
      "source": [
        "active_parking = pd.pivot_table(data[data['Bldg Status']=='ACTIVE'],index='Owned/Leased',values='Total Parking Spaces')\n",
        "active_parking"
      ],
      "execution_count": null,
      "outputs": [
        {
          "output_type": "execute_result",
          "data": {
            "text/html": [
              "<div>\n",
              "<style scoped>\n",
              "    .dataframe tbody tr th:only-of-type {\n",
              "        vertical-align: middle;\n",
              "    }\n",
              "\n",
              "    .dataframe tbody tr th {\n",
              "        vertical-align: top;\n",
              "    }\n",
              "\n",
              "    .dataframe thead th {\n",
              "        text-align: right;\n",
              "    }\n",
              "</style>\n",
              "<table border=\"1\" class=\"dataframe\">\n",
              "  <thead>\n",
              "    <tr style=\"text-align: right;\">\n",
              "      <th></th>\n",
              "      <th>Total Parking Spaces</th>\n",
              "    </tr>\n",
              "    <tr>\n",
              "      <th>Owned/Leased</th>\n",
              "      <th></th>\n",
              "    </tr>\n",
              "  </thead>\n",
              "  <tbody>\n",
              "    <tr>\n",
              "      <th>LEASED</th>\n",
              "      <td>44.977885</td>\n",
              "    </tr>\n",
              "    <tr>\n",
              "      <th>OWNED</th>\n",
              "      <td>75.630530</td>\n",
              "    </tr>\n",
              "  </tbody>\n",
              "</table>\n",
              "</div>"
            ],
            "text/plain": [
              "              Total Parking Spaces\n",
              "Owned/Leased                      \n",
              "LEASED                   44.977885\n",
              "OWNED                    75.630530"
            ]
          },
          "metadata": {
            "tags": []
          },
          "execution_count": 27
        }
      ]
    },
    {
      "cell_type": "code",
      "metadata": {
        "id": "l71mA3CprSKA",
        "colab": {
          "base_uri": "https://localhost:8080/",
          "height": 325
        },
        "outputId": "07fe8163-ba6d-47d2-c019-93751aeb20fe"
      },
      "source": [
        "active_parking.plot(kind='bar')"
      ],
      "execution_count": null,
      "outputs": [
        {
          "output_type": "execute_result",
          "data": {
            "text/plain": [
              "<matplotlib.axes._subplots.AxesSubplot at 0x7f8439b23a58>"
            ]
          },
          "metadata": {
            "tags": []
          },
          "execution_count": 28
        },
        {
          "output_type": "display_data",
          "data": {
            "image/png": "[encoded data removed]",
            "text/plain": [
              "<Figure size 432x288 with 1 Axes>"
            ]
          },
          "metadata": {
            "tags": [],
            "needs_background": "light"
          }
        }
      ]
    },
    {
      "cell_type": "code",
      "metadata": {
        "id": "KWyajgpU5E3d",
        "colab": {
          "base_uri": "https://localhost:8080/",
          "height": 801
        },
        "outputId": "e169da82-0eae-471e-ea12-149a151b8c81"
      },
      "source": [
        "data.hist(figsize=[12,12])"
      ],
      "execution_count": null,
      "outputs": [
        {
          "output_type": "execute_result",
          "data": {
            "text/plain": [
              "array([[<matplotlib.axes._subplots.AxesSubplot object at 0x7f8431aebe10>,\n",
              "        <matplotlib.axes._subplots.AxesSubplot object at 0x7f8431a86fd0>],\n",
              "       [<matplotlib.axes._subplots.AxesSubplot object at 0x7f8431a452b0>,\n",
              "        <matplotlib.axes._subplots.AxesSubplot object at 0x7f84319f9518>]],\n",
              "      dtype=object)"
            ]
          },
          "metadata": {
            "tags": []
          },
          "execution_count": 30
        },
        {
          "output_type": "display_data",
          "data": {
            "image/png": "[encoded data removed]",
            "text/plain": [
              "<Figure size 864x864 with 4 Axes>"
            ]
          },
          "metadata": {
            "tags": [],
            "needs_background": "light"
          }
        }
      ]
    }
  ]
}